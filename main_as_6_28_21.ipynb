{
 "cells": [
  {
   "cell_type": "code",
   "execution_count": null,
   "metadata": {},
   "outputs": [],
   "source": [
    "# Parth \"Repo Master\" Korat\n",
    "# Geoff Pawlowski\n",
    "# Ashutosh Sawant"
   ]
  },
  {
   "cell_type": "code",
   "execution_count": 1,
   "metadata": {},
   "outputs": [
    {
     "data": {
      "text/plain": [
       "'c:\\\\Users\\\\sunny\\\\Project1\\\\bulldogs-project-1'"
      ]
     },
     "execution_count": 1,
     "metadata": {},
     "output_type": "execute_result"
    }
   ],
   "source": [
    "import scipy.stats as st\n",
    "from scipy.stats import linregress\n",
    "import numpy as np\n",
    "import pandas as pd\n",
    "import matplotlib.pyplot as plt\n",
    "import os\n",
    "os.getcwd()"
   ]
  },
  {
   "cell_type": "code",
   "execution_count": 2,
   "metadata": {},
   "outputs": [
    {
     "data": {
      "text/plain": [
       "Location          object\n",
       "Period             int64\n",
       "Indicator         object\n",
       "Dim1              object\n",
       "First Tooltip    float64\n",
       "dtype: object"
      ]
     },
     "execution_count": 2,
     "metadata": {},
     "output_type": "execute_result"
    }
   ],
   "source": [
    "# Read in life expectancy dataset\n",
    "life_expectancy_df = pd.read_csv(\"Resources\\lifeExpectancyAtBirth.csv\")\n",
    "life_expectancy_df.head()\n",
    "life_expectancy_df.dtypes"
   ]
  },
  {
   "cell_type": "code",
   "execution_count": 3,
   "metadata": {},
   "outputs": [
    {
     "ename": "NameError",
     "evalue": "name 'life_expectancy_2019_both_sexes_df' is not defined",
     "output_type": "error",
     "traceback": [
      "\u001b[1;31m---------------------------------------------------------------------------\u001b[0m",
      "\u001b[1;31mNameError\u001b[0m                                 Traceback (most recent call last)",
      "\u001b[1;32m<ipython-input-3-c5e6de843357>\u001b[0m in \u001b[0;36m<module>\u001b[1;34m\u001b[0m\n\u001b[0;32m      2\u001b[0m \u001b[1;33m\u001b[0m\u001b[0m\n\u001b[0;32m      3\u001b[0m \u001b[1;31m#life_expectancy_2019_both_sexes_df = life_expectancy_df[life_expectancy_df['Period']==2019]\u001b[0m\u001b[1;33m\u001b[0m\u001b[1;33m\u001b[0m\u001b[1;33m\u001b[0m\u001b[0m\n\u001b[1;32m----> 4\u001b[1;33m \u001b[0mlife_expectancy_2019_both_sexes_df\u001b[0m \u001b[1;33m=\u001b[0m \u001b[0mlife_expectancy_2019_both_sexes_df\u001b[0m\u001b[1;33m[\u001b[0m\u001b[0mlife_expectancy_2019_both_sexes_df\u001b[0m\u001b[1;33m[\u001b[0m\u001b[1;34m'Dim1'\u001b[0m\u001b[1;33m]\u001b[0m\u001b[1;33m==\u001b[0m\u001b[1;34m'Both sexes'\u001b[0m\u001b[1;33m]\u001b[0m\u001b[1;33m\u001b[0m\u001b[1;33m\u001b[0m\u001b[0m\n\u001b[0m\u001b[0;32m      5\u001b[0m \u001b[1;33m\u001b[0m\u001b[0m\n\u001b[0;32m      6\u001b[0m \u001b[0mlife_expectancy_2019_both_sexes_df\u001b[0m\u001b[1;33m.\u001b[0m\u001b[0mrename\u001b[0m\u001b[1;33m(\u001b[0m\u001b[0mcolumns\u001b[0m\u001b[1;33m=\u001b[0m\u001b[1;33m{\u001b[0m\u001b[1;34m'Location'\u001b[0m\u001b[1;33m:\u001b[0m\u001b[1;34m'Entity'\u001b[0m\u001b[1;33m}\u001b[0m\u001b[1;33m,\u001b[0m\u001b[0minplace\u001b[0m\u001b[1;33m=\u001b[0m\u001b[1;32mTrue\u001b[0m\u001b[1;33m)\u001b[0m\u001b[1;33m\u001b[0m\u001b[1;33m\u001b[0m\u001b[0m\n",
      "\u001b[1;31mNameError\u001b[0m: name 'life_expectancy_2019_both_sexes_df' is not defined"
     ]
    }
   ],
   "source": [
    "# Create dataframe for 2019 life expectancy for both sexes by country\r\n",
    "\r\n",
    "life_expectancy_2019_both_sexes_df = life_expectancy_df[life_expectancy_df['Period']==2019]  \r\n",
    "life_expectancy_2019_both_sexes_df = life_expectancy_2019_both_sexes_df[life_expectancy_2019_both_sexes_df['Dim1']=='Both sexes']\r\n",
    "\r\n",
    "life_expectancy_2019_both_sexes_df.rename(columns={'Location':'Entity'},inplace=True)\r\n",
    "life_expectancy_2019_both_sexes_df.head()"
   ]
  },
  {
   "cell_type": "code",
   "execution_count": null,
   "metadata": {},
   "outputs": [],
   "source": [
    "# create a box plot of life expectancy values and assess for outliers\n",
    "life_expectancies = life_expectancy_2019_both_sexes_df['First Tooltip']\n",
    "fig1, ax1 = plt.subplots()\n",
    "ax1.set_title(\"Life Expectancy Values measured at Birth\")\n",
    "ax1.set_ylabel(\"Life Expectancy (years)\")\n",
    "ax1.boxplot(life_expectancies)\n",
    "\n",
    "# we should not be concerned with outliers in the life expectancy dataset for the year 2019 for the both sexes category\n"
   ]
  },
  {
   "cell_type": "code",
   "execution_count": null,
   "metadata": {},
   "outputs": [],
   "source": [
    "# Read in literacy rates dataset \n",
    "literacy_rates_df = pd.read_csv(\"Resources\\Education\\cross-country-literacy-rates.csv\")\n",
    "\n",
    "literacy_rates_df.rename(columns={'Literacy rates (World Bank, CIA World Factbook, and other sources)':'Literacy Rates'}, inplace=True)\n",
    "literacy_rates_df.head(20)\n",
    "\n",
    "# isolate dataset for literacy rates by country and year of data\n",
    "literacy_rates = literacy_rates_df.groupby('Entity')\n",
    "literacy_rates = literacy_rates.describe()\n",
    "year_max = literacy_rates['Year']['max']\n",
    "literacy_max = literacy_rates['Literacy Rates']['max']\n",
    "literacy_max.head()\n",
    "\n",
    "# merge literacy rate data with life expectancy data on country index\n",
    "combined_df = pd.merge(life_expectancy_2019_both_sexes_df, literacy_max, on='Entity')\n",
    "combined_df.rename(columns={'max':'Literacy Rate'},inplace=True)\n",
    "lit_rates = combined_df['Literacy Rate']\n",
    "life_exp = combined_df['First Tooltip']\n",
    "\n",
    "# Create scatter plot and linear regression of literacy data vs life expectancy data\n",
    "(slope, intercept, rvalue, pvalue, stderr) = linregress(lit_rates, life_exp)\n",
    "regress_values = lit_rates * slope + intercept\n",
    "line_eq = \"y = \" + str(round(slope,2)) + \"x + \" + str(round(intercept,2))\n",
    "plt.scatter(lit_rates, life_exp)\n",
    "plt.plot(lit_rates, regress_values, \"r-\")\n",
    "plt.annotate(line_eq,(50,50),fontsize = 15, color = \"red\")\n",
    "print(f\"The r-squared is: {rvalue**2}\")\n",
    "plt.xlabel('Literacy Rates (%)')\n",
    "plt.ylabel('Life Expectancy (yrs)')\n",
    "plt.title('Country Literacy Rate (%) vs. Country Life Expectancy Rate (Yrs)')\n",
    "print(f\"The correlation coefficient between literacy rate and life expectancy is {round(st.pearsonr(lit_rates,life_exp)[0],2)}\")\n",
    "literacy_corr = st.pearsonr(lit_rates,life_exp)[0]"
   ]
  },
  {
   "cell_type": "code",
   "execution_count": null,
   "metadata": {},
   "outputs": [],
   "source": [
    "# Read in Teaching Staff dataset \n",
    "teaching_staff_df = pd.read_csv(\"Resources\\Education\\Teaching_Staff_in_Education.csv\", encoding = \"ISO-8859-1\")\n",
    "teaching_staff_df.head(50)\n",
    "pupil_teacher_ratio_primary_df = teaching_staff_df.loc[(teaching_staff_df['Series'] == 'Pupil-teacher ratio in primary education')]\n",
    "pupil_teacher_ratio_primary_df = pupil_teacher_ratio_primary_df.loc[(pupil_teacher_ratio_primary_df['Year'] == 2018)]\n",
    "pupil_teacher_ratio_primary_df.count()\n",
    "pupil_teacher_ratio_primary_df.rename(columns={'Unnamed: 1':'Entity'}, inplace = True)\n",
    "pupil_teacher_ratio_primary_df.head()\n",
    "combined_df = pd.merge(life_expectancy_2019_both_sexes_df, pupil_teacher_ratio_primary_df, on='Entity')\n",
    "combined_df.rename(columns={'First Tooltip':'Life Expectancy','Value':'Student/Teacher Ratio'}, inplace = True)\n",
    "combined_df\n",
    "\n",
    "student_teacher_ratio = combined_df['Student/Teacher Ratio']\n",
    "life_exp = combined_df['Life Expectancy']\n",
    "\n",
    "# Create scatter plot and linear regression of literacy data vs life expectancy data\n",
    "(slope, intercept, rvalue, pvalue, stderr) = linregress(student_teacher_ratio, life_exp)\n",
    "regress_values = student_teacher_ratio * slope + intercept\n",
    "line_eq = \"y = \" + str(round(slope,2)) + \"x + \" + str(round(intercept,2))\n",
    "plt.scatter(student_teacher_ratio, life_exp)\n",
    "plt.plot(student_teacher_ratio, regress_values, \"r-\")\n",
    "plt.annotate(line_eq,(50,50),fontsize = 15, color = \"red\")\n",
    "print(f\"The r-squared is: {rvalue**2}\")\n",
    "plt.xlabel('Student/Teacher Ratio (persons)')\n",
    "plt.ylabel('Life Expectancy (yrs)')\n",
    "plt.title('Country Student/Teacher Ratio in Primary Education vs. Country Life Expectancy Rate (Yrs)')\n",
    "print(f\"The correlation coefficient between student/teacher ratio in primary education and life expectancy is {round(st.pearsonr(student_teacher_ratio,life_exp)[0],2)}\")\n",
    "literacy_corr = st.pearsonr(student_teacher_ratio,life_exp)[0]\n"
   ]
  },
  {
   "cell_type": "code",
   "execution_count": null,
   "metadata": {},
   "outputs": [],
   "source": [
    "# Read in Public Expenditure data\n",
    "public_expenditure_df = pd.read_csv(\"Resources\\Education\\Public_Expenditure_on_Education.csv\", encoding = \"ISO-8859-1\")\n",
    "public_expenditure_df.head(50)\n",
    "education_spending = public_expenditure_df.loc[(public_expenditure_df['Unnamed: 3'] == 'Public expenditure on education (% of GDP)')]\n",
    "education_spending.rename(columns={'Unnamed: 2':'Year','Unnamed: 4':'% GDP'}, inplace = True)\n",
    "grouped_education_spending = education_spending.groupby('Public expenditure on education (new)')\n",
    "df = education_spending.groupby('Public expenditure on education (new)')['Year'].transform(max) == education_spending['Year']\n",
    "education_spending[df]\n",
    "education_spending.rename(columns={'Public expenditure on education (new)':'Entity'}, inplace=True)\n",
    "education_spending[df]\n",
    "\n",
    "combined_df = pd.merge(life_expectancy_2019_both_sexes_df, education_spending[df], on='Entity')\n",
    "combined_df.rename(columns={'First Tooltip':'Life Expectancy'}, inplace=True)\n",
    "\n",
    "df = combined_df['% GDP']\n",
    "life_exp = combined_df['Life Expectancy']\n",
    "percent_GDP = df.astype(float)\n",
    "percent_GDP\n",
    "#Create scatter plot and linear regression of literacy data vs life expectancy data\n",
    "(slope, intercept, rvalue, pvalue, stderr) = linregress(percent_GDP, life_exp)\n",
    "regress_values = percent_GDP * slope + intercept\n",
    "line_eq = \"y = \" + str(round(slope,2)) + \"x + \" + str(round(intercept,2))\n",
    "plt.scatter(percent_GDP, life_exp)\n",
    "plt.plot(percent_GDP, regress_values, \"r-\")\n",
    "plt.annotate(line_eq,(2,55),fontsize = 15, color = \"red\")\n",
    "print(f\"The r-squared is: {rvalue**2}\")\n",
    "plt.xlabel('Percent GDP spent on Education (%)')\n",
    "plt.ylabel('Life Expectancy (yrs)')\n",
    "plt.title('Country % of GDP Spent on Education vs. Country Life Expectancy Rate (Yrs)')\n",
    "print(f\"The correlation coefficient between % of GDP spent on education and life expectancy is {round(st.pearsonr(percent_GDP,life_exp)[0],2)}\")\n",
    "literacy_corr = st.pearsonr(percent_GDP,life_exp)[0]\n"
   ]
  },
  {
   "cell_type": "code",
   "execution_count": null,
   "metadata": {},
   "outputs": [],
   "source": []
  }
 ],
 "metadata": {
  "interpreter": {
   "hash": "e0b418b09ac47957412e0b1b3ad755156e145bf5e9f3a21911cb1dcef404ebf8"
  },
  "kernelspec": {
   "display_name": "Python 3.6.10 64-bit ('PythonData2': conda)",
   "name": "python3"
  },
  "language_info": {
   "codemirror_mode": {
    "name": "ipython",
    "version": 3
   },
   "file_extension": ".py",
   "mimetype": "text/x-python",
   "name": "python",
   "nbconvert_exporter": "python",
   "pygments_lexer": "ipython3",
   "version": "3.6.10"
  },
  "orig_nbformat": 4
 },
 "nbformat": 4,
 "nbformat_minor": 2
}