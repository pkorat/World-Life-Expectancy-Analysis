{
 "cells": [
  {
   "cell_type": "code",
   "execution_count": 1,
   "metadata": {},
   "outputs": [],
   "source": [
    "# Parth \"Repo Master\" Korat\n",
    "# Geoff Pawlowski\n",
    "# Ashutosh Sawant"
   ]
  },
  {
   "cell_type": "code",
   "execution_count": 2,
   "metadata": {},
   "outputs": [
    {
     "data": {
      "text/plain": [
       "'C:\\\\Users\\\\Korat-PC\\\\Desktop\\\\DATA\\\\ucsd bootcamp\\\\projects\\\\bulldogs-project-1'"
      ]
     },
     "execution_count": 2,
     "metadata": {},
     "output_type": "execute_result"
    }
   ],
   "source": [
    "import scipy.stats as sts\n",
    "import numpy as np\n",
    "import pandas as pd\n",
    "import matplotlib.pyplot as plt\n",
    "import os\n",
    "os.getcwd()"
   ]
  },
  {
   "cell_type": "code",
   "execution_count": 3,
   "metadata": {},
   "outputs": [
    {
     "data": {
      "text/plain": [
       "Index(['Location', 'Period', 'Indicator', 'Dim1', 'First Tooltip'], dtype='object')"
      ]
     },
     "execution_count": 3,
     "metadata": {},
     "output_type": "execute_result"
    }
   ],
   "source": [
    "# Parth Korat\n",
    "# Read in life expectancy dataset\n",
    "life_expectancy_df = pd.read_csv(\"Resources\\lifeExpectancyAtBirth.csv\")\n",
    "\n",
    "# columns in the dataset\n",
    "life_expectancy_df.columns"
   ]
  },
  {
   "cell_type": "code",
   "execution_count": 4,
   "metadata": {},
   "outputs": [
    {
     "data": {
      "text/plain": [
       "Canada                                5\n",
       "Estonia                               4\n",
       "South Sudan                           4\n",
       "Bangladesh                            4\n",
       "Iceland                               4\n",
       "                                     ..\n",
       "Botswana                              4\n",
       "Venezuela (Bolivarian Republic of)    4\n",
       "Brazil                                4\n",
       "Sudan                                 2\n",
       "Sudan (until 2011)                    2\n",
       "Name: Location, Length: 184, dtype: int64"
      ]
     },
     "execution_count": 4,
     "metadata": {},
     "output_type": "execute_result"
    }
   ],
   "source": [
    "# Parth Korat\n",
    "# Set the Period as the index\n",
    "life_expectancy_df_period = life_expectancy_df[life_expectancy_df['Dim1'] == 'Both sexes'].set_index('Period')\n",
    "\n",
    "# Get the number of periods in a given country\n",
    "life_expectancy_df_year = life_expectancy_df_period['Location'].value_counts()\n",
    "life_expectancy_df_year"
   ]
  },
  {
   "cell_type": "code",
   "execution_count": 5,
   "metadata": {},
   "outputs": [
    {
     "data": {
      "text/plain": [
       "182"
      ]
     },
     "execution_count": 5,
     "metadata": {},
     "output_type": "execute_result"
    }
   ],
   "source": [
    "# Parth Korat\n",
    "# Find the number of countries with life expectancy data with more than 4 years\n",
    "sum(life_expectancy_df_year >= 4)"
   ]
  },
  {
   "cell_type": "code",
   "execution_count": 6,
   "metadata": {},
   "outputs": [
    {
     "data": {
      "text/html": [
       "<div>\n",
       "<style scoped>\n",
       "    .dataframe tbody tr th:only-of-type {\n",
       "        vertical-align: middle;\n",
       "    }\n",
       "\n",
       "    .dataframe tbody tr th {\n",
       "        vertical-align: top;\n",
       "    }\n",
       "\n",
       "    .dataframe thead th {\n",
       "        text-align: right;\n",
       "    }\n",
       "</style>\n",
       "<table border=\"1\" class=\"dataframe\">\n",
       "  <thead>\n",
       "    <tr style=\"text-align: right;\">\n",
       "      <th></th>\n",
       "      <th>Location</th>\n",
       "      <th>Indicator</th>\n",
       "      <th>Dim1</th>\n",
       "      <th>First Tooltip</th>\n",
       "    </tr>\n",
       "    <tr>\n",
       "      <th>Period</th>\n",
       "      <th></th>\n",
       "      <th></th>\n",
       "      <th></th>\n",
       "      <th></th>\n",
       "    </tr>\n",
       "  </thead>\n",
       "  <tbody>\n",
       "    <tr>\n",
       "      <th>2019</th>\n",
       "      <td>Afghanistan</td>\n",
       "      <td>Life expectancy at birth (years)</td>\n",
       "      <td>Both sexes</td>\n",
       "      <td>63.21</td>\n",
       "    </tr>\n",
       "    <tr>\n",
       "      <th>2015</th>\n",
       "      <td>Afghanistan</td>\n",
       "      <td>Life expectancy at birth (years)</td>\n",
       "      <td>Both sexes</td>\n",
       "      <td>61.65</td>\n",
       "    </tr>\n",
       "    <tr>\n",
       "      <th>2010</th>\n",
       "      <td>Afghanistan</td>\n",
       "      <td>Life expectancy at birth (years)</td>\n",
       "      <td>Both sexes</td>\n",
       "      <td>59.94</td>\n",
       "    </tr>\n",
       "    <tr>\n",
       "      <th>2000</th>\n",
       "      <td>Afghanistan</td>\n",
       "      <td>Life expectancy at birth (years)</td>\n",
       "      <td>Both sexes</td>\n",
       "      <td>54.99</td>\n",
       "    </tr>\n",
       "    <tr>\n",
       "      <th>2019</th>\n",
       "      <td>Albania</td>\n",
       "      <td>Life expectancy at birth (years)</td>\n",
       "      <td>Both sexes</td>\n",
       "      <td>78.00</td>\n",
       "    </tr>\n",
       "  </tbody>\n",
       "</table>\n",
       "</div>"
      ],
      "text/plain": [
       "           Location                         Indicator        Dim1  \\\n",
       "Period                                                              \n",
       "2019    Afghanistan  Life expectancy at birth (years)  Both sexes   \n",
       "2015    Afghanistan  Life expectancy at birth (years)  Both sexes   \n",
       "2010    Afghanistan  Life expectancy at birth (years)  Both sexes   \n",
       "2000    Afghanistan  Life expectancy at birth (years)  Both sexes   \n",
       "2019        Albania  Life expectancy at birth (years)  Both sexes   \n",
       "\n",
       "        First Tooltip  \n",
       "Period                 \n",
       "2019            63.21  \n",
       "2015            61.65  \n",
       "2010            59.94  \n",
       "2000            54.99  \n",
       "2019            78.00  "
      ]
     },
     "execution_count": 6,
     "metadata": {},
     "output_type": "execute_result"
    }
   ],
   "source": [
    "# Parth Korat\n",
    "# Remove countries with less than 4 years of life expectancy data\n",
    "life_expectancy_df_clean = life_expectancy_df_period[life_expectancy_df_period['Location'].isin(\n",
    "                            life_expectancy_df_year[life_expectancy_df_year >= 4].index)]\n",
    "life_expectancy_df_clean.head()"
   ]
  },
  {
   "cell_type": "code",
   "execution_count": 7,
   "metadata": {},
   "outputs": [
    {
     "data": {
      "text/plain": [
       "2019    182\n",
       "2015    182\n",
       "2010    182\n",
       "2000    182\n",
       "1920      1\n",
       "Name: Period, dtype: int64"
      ]
     },
     "execution_count": 7,
     "metadata": {},
     "output_type": "execute_result"
    }
   ],
   "source": [
    "# Parth Korat\n",
    "# total number of countries for each year\n",
    "life_expectancy_df_clean.index.value_counts()"
   ]
  },
  {
   "cell_type": "code",
   "execution_count": 8,
   "metadata": {},
   "outputs": [
    {
     "data": {
      "text/plain": [
       "2019    182\n",
       "2015    182\n",
       "2010    182\n",
       "2000    182\n",
       "Name: Period, dtype: int64"
      ]
     },
     "execution_count": 8,
     "metadata": {},
     "output_type": "execute_result"
    }
   ],
   "source": [
    "# Parth Korat\n",
    "# Remove 1920 period from the data set\n",
    "life_expectancy_df_clean = life_expectancy_df_clean.drop(1920)\n",
    "life_expectancy_df_clean.index.value_counts()"
   ]
  },
  {
   "cell_type": "code",
   "execution_count": 9,
   "metadata": {
    "scrolled": false
   },
   "outputs": [
    {
     "data": {
      "text/html": [
       "<div>\n",
       "<style scoped>\n",
       "    .dataframe tbody tr th:only-of-type {\n",
       "        vertical-align: middle;\n",
       "    }\n",
       "\n",
       "    .dataframe tbody tr th {\n",
       "        vertical-align: top;\n",
       "    }\n",
       "\n",
       "    .dataframe thead th {\n",
       "        text-align: right;\n",
       "    }\n",
       "</style>\n",
       "<table border=\"1\" class=\"dataframe\">\n",
       "  <thead>\n",
       "    <tr style=\"text-align: right;\">\n",
       "      <th></th>\n",
       "      <th>Period</th>\n",
       "      <th>Life Expectancy in Years</th>\n",
       "    </tr>\n",
       "  </thead>\n",
       "  <tbody>\n",
       "    <tr>\n",
       "      <th>count</th>\n",
       "      <td>728.000000</td>\n",
       "      <td>728.000000</td>\n",
       "    </tr>\n",
       "    <tr>\n",
       "      <th>mean</th>\n",
       "      <td>2011.000000</td>\n",
       "      <td>70.218736</td>\n",
       "    </tr>\n",
       "    <tr>\n",
       "      <th>std</th>\n",
       "      <td>7.111221</td>\n",
       "      <td>8.689989</td>\n",
       "    </tr>\n",
       "    <tr>\n",
       "      <th>min</th>\n",
       "      <td>2000.000000</td>\n",
       "      <td>31.280000</td>\n",
       "    </tr>\n",
       "    <tr>\n",
       "      <th>25%</th>\n",
       "      <td>2007.500000</td>\n",
       "      <td>64.430000</td>\n",
       "    </tr>\n",
       "    <tr>\n",
       "      <th>50%</th>\n",
       "      <td>2012.500000</td>\n",
       "      <td>72.175000</td>\n",
       "    </tr>\n",
       "    <tr>\n",
       "      <th>75%</th>\n",
       "      <td>2016.000000</td>\n",
       "      <td>76.442500</td>\n",
       "    </tr>\n",
       "    <tr>\n",
       "      <th>max</th>\n",
       "      <td>2019.000000</td>\n",
       "      <td>84.260000</td>\n",
       "    </tr>\n",
       "  </tbody>\n",
       "</table>\n",
       "</div>"
      ],
      "text/plain": [
       "            Period  Life Expectancy in Years\n",
       "count   728.000000                728.000000\n",
       "mean   2011.000000                 70.218736\n",
       "std       7.111221                  8.689989\n",
       "min    2000.000000                 31.280000\n",
       "25%    2007.500000                 64.430000\n",
       "50%    2012.500000                 72.175000\n",
       "75%    2016.000000                 76.442500\n",
       "max    2019.000000                 84.260000"
      ]
     },
     "execution_count": 9,
     "metadata": {},
     "output_type": "execute_result"
    }
   ],
   "source": [
    "# Parth Korat\n",
    "# Rename columns and reset the index\n",
    "life_expectancy_df_clean.columns = ['Location', 'Indicator', 'Sex', 'Life Expectancy in Years']\n",
    "life_expectancy_df_clean = life_expectancy_df_clean.reset_index()\n",
    "life_expectancy_df_clean.describe()"
   ]
  },
  {
   "cell_type": "code",
   "execution_count": 10,
   "metadata": {},
   "outputs": [],
   "source": [
    "# Parth Korat\n",
    "# Get mean life expectancy for each country for the past 9 years.\n",
    "life_expectancy_df_sort = life_expectancy_df_clean.groupby('Location').mean()['Life Expectancy in Years'].sort_values()"
   ]
  },
  {
   "cell_type": "markdown",
   "metadata": {},
   "source": [
    "### 10 countries with highest life expectancy"
   ]
  },
  {
   "cell_type": "code",
   "execution_count": 11,
   "metadata": {
    "scrolled": true
   },
   "outputs": [
    {
     "data": {
      "text/html": [
       "<div>\n",
       "<style scoped>\n",
       "    .dataframe tbody tr th:only-of-type {\n",
       "        vertical-align: middle;\n",
       "    }\n",
       "\n",
       "    .dataframe tbody tr th {\n",
       "        vertical-align: top;\n",
       "    }\n",
       "\n",
       "    .dataframe thead th {\n",
       "        text-align: right;\n",
       "    }\n",
       "</style>\n",
       "<table border=\"1\" class=\"dataframe\">\n",
       "  <thead>\n",
       "    <tr style=\"text-align: right;\">\n",
       "      <th></th>\n",
       "      <th>Life Expectancy in Years</th>\n",
       "    </tr>\n",
       "    <tr>\n",
       "      <th>Location</th>\n",
       "      <th></th>\n",
       "    </tr>\n",
       "  </thead>\n",
       "  <tbody>\n",
       "    <tr>\n",
       "      <th>Israel</th>\n",
       "      <td>81.1700</td>\n",
       "    </tr>\n",
       "    <tr>\n",
       "      <th>Cyprus</th>\n",
       "      <td>81.2300</td>\n",
       "    </tr>\n",
       "    <tr>\n",
       "      <th>Sweden</th>\n",
       "      <td>81.2550</td>\n",
       "    </tr>\n",
       "    <tr>\n",
       "      <th>Iceland</th>\n",
       "      <td>81.4625</td>\n",
       "    </tr>\n",
       "    <tr>\n",
       "      <th>Singapore</th>\n",
       "      <td>81.5425</td>\n",
       "    </tr>\n",
       "    <tr>\n",
       "      <th>Spain</th>\n",
       "      <td>81.5800</td>\n",
       "    </tr>\n",
       "    <tr>\n",
       "      <th>Italy</th>\n",
       "      <td>81.6100</td>\n",
       "    </tr>\n",
       "    <tr>\n",
       "      <th>Australia</th>\n",
       "      <td>81.7275</td>\n",
       "    </tr>\n",
       "    <tr>\n",
       "      <th>Switzerland</th>\n",
       "      <td>81.9925</td>\n",
       "    </tr>\n",
       "    <tr>\n",
       "      <th>Japan</th>\n",
       "      <td>82.9200</td>\n",
       "    </tr>\n",
       "  </tbody>\n",
       "</table>\n",
       "</div>"
      ],
      "text/plain": [
       "             Life Expectancy in Years\n",
       "Location                             \n",
       "Israel                        81.1700\n",
       "Cyprus                        81.2300\n",
       "Sweden                        81.2550\n",
       "Iceland                       81.4625\n",
       "Singapore                     81.5425\n",
       "Spain                         81.5800\n",
       "Italy                         81.6100\n",
       "Australia                     81.7275\n",
       "Switzerland                   81.9925\n",
       "Japan                         82.9200"
      ]
     },
     "execution_count": 11,
     "metadata": {},
     "output_type": "execute_result"
    }
   ],
   "source": [
    "# Parth Korat\n",
    "life_expectancy_df_sort.tail(10).to_frame()"
   ]
  },
  {
   "cell_type": "markdown",
   "metadata": {},
   "source": [
    "### 10 countries with lowest life expectancy"
   ]
  },
  {
   "cell_type": "code",
   "execution_count": 12,
   "metadata": {},
   "outputs": [
    {
     "data": {
      "text/html": [
       "<div>\n",
       "<style scoped>\n",
       "    .dataframe tbody tr th:only-of-type {\n",
       "        vertical-align: middle;\n",
       "    }\n",
       "\n",
       "    .dataframe tbody tr th {\n",
       "        vertical-align: top;\n",
       "    }\n",
       "\n",
       "    .dataframe thead th {\n",
       "        text-align: right;\n",
       "    }\n",
       "</style>\n",
       "<table border=\"1\" class=\"dataframe\">\n",
       "  <thead>\n",
       "    <tr style=\"text-align: right;\">\n",
       "      <th></th>\n",
       "      <th>Life Expectancy in Years</th>\n",
       "    </tr>\n",
       "    <tr>\n",
       "      <th>Location</th>\n",
       "      <th></th>\n",
       "    </tr>\n",
       "  </thead>\n",
       "  <tbody>\n",
       "    <tr>\n",
       "      <th>Lesotho</th>\n",
       "      <td>48.4050</td>\n",
       "    </tr>\n",
       "    <tr>\n",
       "      <th>Central African Republic</th>\n",
       "      <td>49.1200</td>\n",
       "    </tr>\n",
       "    <tr>\n",
       "      <th>Eswatini</th>\n",
       "      <td>51.5650</td>\n",
       "    </tr>\n",
       "    <tr>\n",
       "      <th>Somalia</th>\n",
       "      <td>53.2225</td>\n",
       "    </tr>\n",
       "    <tr>\n",
       "      <th>Haiti</th>\n",
       "      <td>53.7475</td>\n",
       "    </tr>\n",
       "    <tr>\n",
       "      <th>Zimbabwe</th>\n",
       "      <td>54.3050</td>\n",
       "    </tr>\n",
       "    <tr>\n",
       "      <th>Mozambique</th>\n",
       "      <td>54.5650</td>\n",
       "    </tr>\n",
       "    <tr>\n",
       "      <th>Sierra Leone</th>\n",
       "      <td>55.2950</td>\n",
       "    </tr>\n",
       "    <tr>\n",
       "      <th>Zambia</th>\n",
       "      <td>56.0200</td>\n",
       "    </tr>\n",
       "    <tr>\n",
       "      <th>Guinea-Bissau</th>\n",
       "      <td>56.0400</td>\n",
       "    </tr>\n",
       "  </tbody>\n",
       "</table>\n",
       "</div>"
      ],
      "text/plain": [
       "                          Life Expectancy in Years\n",
       "Location                                          \n",
       "Lesotho                                    48.4050\n",
       "Central African Republic                   49.1200\n",
       "Eswatini                                   51.5650\n",
       "Somalia                                    53.2225\n",
       "Haiti                                      53.7475\n",
       "Zimbabwe                                   54.3050\n",
       "Mozambique                                 54.5650\n",
       "Sierra Leone                               55.2950\n",
       "Zambia                                     56.0200\n",
       "Guinea-Bissau                              56.0400"
      ]
     },
     "execution_count": 12,
     "metadata": {},
     "output_type": "execute_result"
    }
   ],
   "source": [
    "# Parth Korat\n",
    "life_expectancy_df_sort.head(10).to_frame()"
   ]
  },
  {
   "cell_type": "markdown",
   "metadata": {},
   "source": [
    "### - - - - - - - - - - - - - - - - - - - - - - - - - - - - - - - - - - - - - - - - - - - - - - - - - - - - - - - - - - - - - - - - - - - - - - - - - - - - - - - - - - - - -\n",
    "## Hand Washing Facilities vs Life Expectancy\n",
    "**Is there a significant correlation between life expectancy and hand washing?**"
   ]
  },
  {
   "cell_type": "code",
   "execution_count": 13,
   "metadata": {},
   "outputs": [
    {
     "data": {
      "text/html": [
       "<div>\n",
       "<style scoped>\n",
       "    .dataframe tbody tr th:only-of-type {\n",
       "        vertical-align: middle;\n",
       "    }\n",
       "\n",
       "    .dataframe tbody tr th {\n",
       "        vertical-align: top;\n",
       "    }\n",
       "\n",
       "    .dataframe thead th {\n",
       "        text-align: right;\n",
       "    }\n",
       "</style>\n",
       "<table border=\"1\" class=\"dataframe\">\n",
       "  <thead>\n",
       "    <tr style=\"text-align: right;\">\n",
       "      <th></th>\n",
       "      <th>Location</th>\n",
       "      <th>Indicator</th>\n",
       "      <th>Period</th>\n",
       "      <th>Dim1</th>\n",
       "      <th>First Tooltip</th>\n",
       "    </tr>\n",
       "  </thead>\n",
       "  <tbody>\n",
       "    <tr>\n",
       "      <th>0</th>\n",
       "      <td>Afghanistan</td>\n",
       "      <td>Population with basic handwashing facilities a...</td>\n",
       "      <td>2017</td>\n",
       "      <td>Total</td>\n",
       "      <td>37.75</td>\n",
       "    </tr>\n",
       "    <tr>\n",
       "      <th>1</th>\n",
       "      <td>Afghanistan</td>\n",
       "      <td>Population with basic handwashing facilities a...</td>\n",
       "      <td>2017</td>\n",
       "      <td>Urban</td>\n",
       "      <td>63.58</td>\n",
       "    </tr>\n",
       "    <tr>\n",
       "      <th>2</th>\n",
       "      <td>Afghanistan</td>\n",
       "      <td>Population with basic handwashing facilities a...</td>\n",
       "      <td>2017</td>\n",
       "      <td>Rural</td>\n",
       "      <td>29.02</td>\n",
       "    </tr>\n",
       "    <tr>\n",
       "      <th>3</th>\n",
       "      <td>Afghanistan</td>\n",
       "      <td>Population with basic handwashing facilities a...</td>\n",
       "      <td>2016</td>\n",
       "      <td>Total</td>\n",
       "      <td>37.67</td>\n",
       "    </tr>\n",
       "    <tr>\n",
       "      <th>4</th>\n",
       "      <td>Afghanistan</td>\n",
       "      <td>Population with basic handwashing facilities a...</td>\n",
       "      <td>2016</td>\n",
       "      <td>Urban</td>\n",
       "      <td>63.58</td>\n",
       "    </tr>\n",
       "  </tbody>\n",
       "</table>\n",
       "</div>"
      ],
      "text/plain": [
       "      Location                                          Indicator  Period  \\\n",
       "0  Afghanistan  Population with basic handwashing facilities a...    2017   \n",
       "1  Afghanistan  Population with basic handwashing facilities a...    2017   \n",
       "2  Afghanistan  Population with basic handwashing facilities a...    2017   \n",
       "3  Afghanistan  Population with basic handwashing facilities a...    2016   \n",
       "4  Afghanistan  Population with basic handwashing facilities a...    2016   \n",
       "\n",
       "    Dim1  First Tooltip  \n",
       "0  Total          37.75  \n",
       "1  Urban          63.58  \n",
       "2  Rural          29.02  \n",
       "3  Total          37.67  \n",
       "4  Urban          63.58  "
      ]
     },
     "execution_count": 13,
     "metadata": {},
     "output_type": "execute_result"
    }
   ],
   "source": [
    "# Parth Korat\n",
    "# read basicHandWashing.csv\n",
    "life_handwashing_df = pd.read_csv('Resources/Infrastructure/basicHandWashing.csv')\n",
    "life_handwashing_df.head()"
   ]
  },
  {
   "cell_type": "code",
   "execution_count": 14,
   "metadata": {},
   "outputs": [
    {
     "data": {
      "text/plain": [
       "count    921.000000\n",
       "mean      47.501911\n",
       "std       32.774406\n",
       "min        1.030000\n",
       "25%       13.980000\n",
       "50%       44.520000\n",
       "75%       81.740000\n",
       "max      100.000000\n",
       "Name: First Tooltip, dtype: float64"
      ]
     },
     "execution_count": 14,
     "metadata": {},
     "output_type": "execute_result"
    }
   ],
   "source": [
    "# Parth Korat\n",
    "# Drop Indicator and Dim1 column, and get Total for Dim1 only.\n",
    "life_handwashing_df_clean = life_handwashing_df[life_handwashing_df['Dim1'] == 'Total'].drop(['Indicator', 'Dim1'], axis=1)\n",
    "life_handwashing_df_clean['First Tooltip'].describe()"
   ]
  },
  {
   "cell_type": "markdown",
   "metadata": {},
   "source": [
    "Then using .replace() to pool together all Periods for the years 2019, 2015, 2010, 2000."
   ]
  },
  {
   "cell_type": "code",
   "execution_count": 15,
   "metadata": {},
   "outputs": [],
   "source": [
    "# Parth Korat\n",
    "# using replace to change the Period values\n",
    "life_handwashing_df_clean = life_handwashing_df_clean.replace([2017, 2016, 2015, 2014, 2013, 2012, 2011, 2010, 2009, 2008, 2007, 2006, 2005, \n",
    "                                                               2004, 2003, 2002, 2001, 2000], [2015, 2015, 2015, 2015, 2015, 2010, 2010, 2010, \n",
    "                                                                                               2010, 2010, 2000, 2000, 2000, 2000, 2000, 2000, \n",
    "                                                                                               2000, 2000])\n",
    "# groupby the location and period to get the mean for each location and period.\n",
    "life_handwashing_df_clean = life_handwashing_df_clean.merge(life_expectancy_df_clean, on=['Location', 'Period']).groupby(['Period', 'Location', \n",
    "                                                                                                                          'Life Expectancy in Years']).mean()"
   ]
  },
  {
   "cell_type": "code",
   "execution_count": 16,
   "metadata": {},
   "outputs": [
    {
     "data": {
      "text/html": [
       "<div>\n",
       "<style scoped>\n",
       "    .dataframe tbody tr th:only-of-type {\n",
       "        vertical-align: middle;\n",
       "    }\n",
       "\n",
       "    .dataframe tbody tr th {\n",
       "        vertical-align: top;\n",
       "    }\n",
       "\n",
       "    .dataframe thead th {\n",
       "        text-align: right;\n",
       "    }\n",
       "</style>\n",
       "<table border=\"1\" class=\"dataframe\">\n",
       "  <thead>\n",
       "    <tr style=\"text-align: right;\">\n",
       "      <th></th>\n",
       "      <th>Life Expectancy in Years</th>\n",
       "      <th>Handwashing Facilities at Home (%)</th>\n",
       "    </tr>\n",
       "    <tr>\n",
       "      <th>Location</th>\n",
       "      <th></th>\n",
       "      <th></th>\n",
       "    </tr>\n",
       "  </thead>\n",
       "  <tbody>\n",
       "    <tr>\n",
       "      <th>Afghanistan</th>\n",
       "      <td>58.860000</td>\n",
       "      <td>37.252667</td>\n",
       "    </tr>\n",
       "    <tr>\n",
       "      <th>Algeria</th>\n",
       "      <td>76.195000</td>\n",
       "      <td>83.341500</td>\n",
       "    </tr>\n",
       "    <tr>\n",
       "      <th>Angola</th>\n",
       "      <td>59.895000</td>\n",
       "      <td>26.147000</td>\n",
       "    </tr>\n",
       "    <tr>\n",
       "      <th>Armenia</th>\n",
       "      <td>73.170000</td>\n",
       "      <td>89.189500</td>\n",
       "    </tr>\n",
       "    <tr>\n",
       "      <th>Azerbaijan</th>\n",
       "      <td>69.850000</td>\n",
       "      <td>83.240000</td>\n",
       "    </tr>\n",
       "    <tr>\n",
       "      <th>...</th>\n",
       "      <td>...</td>\n",
       "      <td>...</td>\n",
       "    </tr>\n",
       "    <tr>\n",
       "      <th>Vanuatu</th>\n",
       "      <td>64.580000</td>\n",
       "      <td>25.075000</td>\n",
       "    </tr>\n",
       "    <tr>\n",
       "      <th>Viet Nam</th>\n",
       "      <td>72.443333</td>\n",
       "      <td>85.381333</td>\n",
       "    </tr>\n",
       "    <tr>\n",
       "      <th>Yemen</th>\n",
       "      <td>67.585000</td>\n",
       "      <td>48.681000</td>\n",
       "    </tr>\n",
       "    <tr>\n",
       "      <th>Zambia</th>\n",
       "      <td>58.585000</td>\n",
       "      <td>13.511000</td>\n",
       "    </tr>\n",
       "    <tr>\n",
       "      <th>Zimbabwe</th>\n",
       "      <td>54.985000</td>\n",
       "      <td>36.866000</td>\n",
       "    </tr>\n",
       "  </tbody>\n",
       "</table>\n",
       "<p>93 rows × 2 columns</p>\n",
       "</div>"
      ],
      "text/plain": [
       "             Life Expectancy in Years  Handwashing Facilities at Home (%)\n",
       "Location                                                                 \n",
       "Afghanistan                 58.860000                           37.252667\n",
       "Algeria                     76.195000                           83.341500\n",
       "Angola                      59.895000                           26.147000\n",
       "Armenia                     73.170000                           89.189500\n",
       "Azerbaijan                  69.850000                           83.240000\n",
       "...                               ...                                 ...\n",
       "Vanuatu                     64.580000                           25.075000\n",
       "Viet Nam                    72.443333                           85.381333\n",
       "Yemen                       67.585000                           48.681000\n",
       "Zambia                      58.585000                           13.511000\n",
       "Zimbabwe                    54.985000                           36.866000\n",
       "\n",
       "[93 rows x 2 columns]"
      ]
     },
     "execution_count": 16,
     "metadata": {},
     "output_type": "execute_result"
    }
   ],
   "source": [
    "# Parth Korat\n",
    "# change column name and get the dataframe\n",
    "life_handwashing_df_clean.columns = ['Handwashing Facilities at Home (%)']\n",
    "life_handwashing_df_clean = life_handwashing_df_clean.reset_index().groupby('Location').mean()\n",
    "life_handwashing_df_clean[['Life Expectancy in Years', 'Handwashing Facilities at Home (%)']]"
   ]
  },
  {
   "cell_type": "code",
   "execution_count": 17,
   "metadata": {},
   "outputs": [],
   "source": [
    "# Parth Korat\n",
    "# set the x and y data\n",
    "x_handw_life = life_handwashing_df_clean['Handwashing Facilities at Home (%)']\n",
    "y_handw_life = life_handwashing_df_clean['Life Expectancy in Years']"
   ]
  },
  {
   "cell_type": "code",
   "execution_count": 18,
   "metadata": {},
   "outputs": [
    {
     "name": "stdout",
     "output_type": "stream",
     "text": [
      "R-squared: 0.67\n",
      "Pearsons correlation: 0.82\n"
     ]
    },
    {
     "data": {
      "image/png": "[encoded data removed]",
      "text/plain": [
       "<Figure size 432x288 with 1 Axes>"
      ]
     },
     "metadata": {
      "needs_background": "light"
     },
     "output_type": "display_data"
    }
   ],
   "source": [
    "# Parth Korat\n",
    "# use sts.linregress() to fit a linear model to the dataset\n",
    "life_hres = sts.linregress(x_handw_life, y_handw_life)\n",
    "\n",
    "# display the scatter plot of the handwashing vs life expectancy\n",
    "plt.scatter(x_handw_life, y_handw_life, label='Original Data')\n",
    "\n",
    "# display on the plot the linear regression model\n",
    "y_hmodel = x_handw_life * life_hres.slope + life_hres.intercept\n",
    "plt.plot(x_handw_life, y_hmodel, '-r', label='Fitted Line')\n",
    "\n",
    "# create the equation\n",
    "lin_eq_hw = f'y = {life_hres.slope:.2f}x + {life_hres.intercept:.2f}'\n",
    "\n",
    "# show graph and legend\n",
    "plt.legend()\n",
    "plt.annotate(lin_eq_hw, (55, 50), fontsize=15, color='red')\n",
    "plt.title('Life Expenctancy in Countries with % of Handwashing Facilities \\n', fontsize=15)\n",
    "plt.xlabel('\\n Handwashing Facilities at Home (%)')\n",
    "plt.ylabel('Life Expectancy in Years \\n')\n",
    "plt.show\n",
    "\n",
    "# Get R-squared and Pearson Correlation coefficients\n",
    "print(f'R-squared: {life_hres.rvalue**2:.2f}')\n",
    "corr, _ = sts.pearsonr(x_handw_life, y_handw_life)\n",
    "print(f'Pearsons correlation: {corr:.2f}')\n",
    "\n",
    "# Save the figure in the Output folder\n",
    "plt.savefig('Output/handwashing_life.png', bbox_inches='tight')"
   ]
  },
  {
   "cell_type": "markdown",
   "metadata": {},
   "source": [
    "### - - - - - - - - - - - - - - - - - - - - - - - - - - - - - - - - - - - - - - - - - - - - - - - - - - - - - - - - - - - - - - - - - - - - - - - - - - - - - - - - - - - - -\n",
    "## Drinking Water Facilities vs Life Expectancy\n",
    "**Is there a significant correlation between life expectancy and avaliable drinking water?**"
   ]
  },
  {
   "cell_type": "code",
   "execution_count": 19,
   "metadata": {},
   "outputs": [
    {
     "data": {
      "text/html": [
       "<div>\n",
       "<style scoped>\n",
       "    .dataframe tbody tr th:only-of-type {\n",
       "        vertical-align: middle;\n",
       "    }\n",
       "\n",
       "    .dataframe tbody tr th {\n",
       "        vertical-align: top;\n",
       "    }\n",
       "\n",
       "    .dataframe thead th {\n",
       "        text-align: right;\n",
       "    }\n",
       "</style>\n",
       "<table border=\"1\" class=\"dataframe\">\n",
       "  <thead>\n",
       "    <tr style=\"text-align: right;\">\n",
       "      <th></th>\n",
       "      <th>Location</th>\n",
       "      <th>Period</th>\n",
       "      <th>Indicator</th>\n",
       "      <th>First Tooltip</th>\n",
       "    </tr>\n",
       "  </thead>\n",
       "  <tbody>\n",
       "    <tr>\n",
       "      <th>0</th>\n",
       "      <td>Afghanistan</td>\n",
       "      <td>2017</td>\n",
       "      <td>Population using at least basic drinking-water...</td>\n",
       "      <td>57.32</td>\n",
       "    </tr>\n",
       "    <tr>\n",
       "      <th>1</th>\n",
       "      <td>Afghanistan</td>\n",
       "      <td>2016</td>\n",
       "      <td>Population using at least basic drinking-water...</td>\n",
       "      <td>54.84</td>\n",
       "    </tr>\n",
       "    <tr>\n",
       "      <th>2</th>\n",
       "      <td>Afghanistan</td>\n",
       "      <td>2015</td>\n",
       "      <td>Population using at least basic drinking-water...</td>\n",
       "      <td>52.39</td>\n",
       "    </tr>\n",
       "    <tr>\n",
       "      <th>3</th>\n",
       "      <td>Afghanistan</td>\n",
       "      <td>2014</td>\n",
       "      <td>Population using at least basic drinking-water...</td>\n",
       "      <td>49.96</td>\n",
       "    </tr>\n",
       "    <tr>\n",
       "      <th>4</th>\n",
       "      <td>Afghanistan</td>\n",
       "      <td>2013</td>\n",
       "      <td>Population using at least basic drinking-water...</td>\n",
       "      <td>47.56</td>\n",
       "    </tr>\n",
       "  </tbody>\n",
       "</table>\n",
       "</div>"
      ],
      "text/plain": [
       "      Location  Period                                          Indicator  \\\n",
       "0  Afghanistan    2017  Population using at least basic drinking-water...   \n",
       "1  Afghanistan    2016  Population using at least basic drinking-water...   \n",
       "2  Afghanistan    2015  Population using at least basic drinking-water...   \n",
       "3  Afghanistan    2014  Population using at least basic drinking-water...   \n",
       "4  Afghanistan    2013  Population using at least basic drinking-water...   \n",
       "\n",
       "   First Tooltip  \n",
       "0          57.32  \n",
       "1          54.84  \n",
       "2          52.39  \n",
       "3          49.96  \n",
       "4          47.56  "
      ]
     },
     "execution_count": 19,
     "metadata": {},
     "output_type": "execute_result"
    }
   ],
   "source": [
    "# Parth Korat\n",
    "# read basicDrinkingWaterServices.csv\n",
    "life_drinkingwater_df = pd.read_csv('Resources/Infrastructure/basicDrinkingWaterServices.csv')\n",
    "life_drinkingwater_df.head()"
   ]
  },
  {
   "cell_type": "code",
   "execution_count": 20,
   "metadata": {},
   "outputs": [
    {
     "data": {
      "text/plain": [
       "count    3455.000000\n",
       "mean       77.847103\n",
       "std        23.987570\n",
       "min        10.130000\n",
       "25%        59.895000\n",
       "50%        87.650000\n",
       "75%        98.460000\n",
       "max       100.000000\n",
       "Name: First Tooltip, dtype: float64"
      ]
     },
     "execution_count": 20,
     "metadata": {},
     "output_type": "execute_result"
    }
   ],
   "source": [
    "# Parth Korat\n",
    "# Drop Indicator column\n",
    "life_drinkingwater_df_clean = life_drinkingwater_df.drop('Indicator', axis=1)\n",
    "life_drinkingwater_df_clean['First Tooltip'].describe()"
   ]
  },
  {
   "cell_type": "code",
   "execution_count": 21,
   "metadata": {},
   "outputs": [],
   "source": [
    "# Parth Korat\n",
    "# using replace to change the Period values\n",
    "life_drinkingwater_df_clean = life_drinkingwater_df_clean.replace([2017, 2016, 2015, 2014, 2013, 2012, 2011, 2010, 2009, 2008, 2007, 2006, 2005, \n",
    "                                                               2004, 2003, 2002, 2001, 2000], [2015, 2015, 2015, 2015, 2015, 2010, 2010, 2010, \n",
    "                                                                                               2010, 2010, 2000, 2000, 2000, 2000, 2000, 2000, \n",
    "                                                                                               2000, 2000])\n",
    "# groupby the location and period to get the mean for each location and period.\n",
    "life_drinkingwater_df_clean = life_drinkingwater_df_clean.merge(life_expectancy_df_clean, on=['Location', 'Period']).groupby(['Period', 'Location', \n",
    "                                                                                                                          'Life Expectancy in Years']).mean()"
   ]
  },
  {
   "cell_type": "code",
   "execution_count": 22,
   "metadata": {},
   "outputs": [
    {
     "data": {
      "text/html": [
       "<div>\n",
       "<style scoped>\n",
       "    .dataframe tbody tr th:only-of-type {\n",
       "        vertical-align: middle;\n",
       "    }\n",
       "\n",
       "    .dataframe tbody tr th {\n",
       "        vertical-align: top;\n",
       "    }\n",
       "\n",
       "    .dataframe thead th {\n",
       "        text-align: right;\n",
       "    }\n",
       "</style>\n",
       "<table border=\"1\" class=\"dataframe\">\n",
       "  <thead>\n",
       "    <tr style=\"text-align: right;\">\n",
       "      <th></th>\n",
       "      <th>Life Expectancy in Years</th>\n",
       "      <th>Drinking Water Facilities at Home (%)</th>\n",
       "    </tr>\n",
       "    <tr>\n",
       "      <th>Location</th>\n",
       "      <th></th>\n",
       "      <th></th>\n",
       "    </tr>\n",
       "  </thead>\n",
       "  <tbody>\n",
       "    <tr>\n",
       "      <th>Afghanistan</th>\n",
       "      <td>58.860000</td>\n",
       "      <td>39.936750</td>\n",
       "    </tr>\n",
       "    <tr>\n",
       "      <th>Albania</th>\n",
       "      <td>75.880000</td>\n",
       "      <td>84.481250</td>\n",
       "    </tr>\n",
       "    <tr>\n",
       "      <th>Algeria</th>\n",
       "      <td>74.866667</td>\n",
       "      <td>86.651000</td>\n",
       "    </tr>\n",
       "    <tr>\n",
       "      <th>Angola</th>\n",
       "      <td>56.363333</td>\n",
       "      <td>24.684167</td>\n",
       "    </tr>\n",
       "    <tr>\n",
       "      <th>Antigua and Barbuda</th>\n",
       "      <td>75.550000</td>\n",
       "      <td>97.225000</td>\n",
       "    </tr>\n",
       "    <tr>\n",
       "      <th>...</th>\n",
       "      <td>...</td>\n",
       "      <td>...</td>\n",
       "    </tr>\n",
       "    <tr>\n",
       "      <th>Venezuela (Bolivarian Republic of)</th>\n",
       "      <td>74.513333</td>\n",
       "      <td>96.133333</td>\n",
       "    </tr>\n",
       "    <tr>\n",
       "      <th>Viet Nam</th>\n",
       "      <td>72.443333</td>\n",
       "      <td>84.972667</td>\n",
       "    </tr>\n",
       "    <tr>\n",
       "      <th>Yemen</th>\n",
       "      <td>65.953333</td>\n",
       "      <td>42.239500</td>\n",
       "    </tr>\n",
       "    <tr>\n",
       "      <th>Zambia</th>\n",
       "      <td>53.876667</td>\n",
       "      <td>37.146917</td>\n",
       "    </tr>\n",
       "    <tr>\n",
       "      <th>Zimbabwe</th>\n",
       "      <td>52.180000</td>\n",
       "      <td>54.455333</td>\n",
       "    </tr>\n",
       "  </tbody>\n",
       "</table>\n",
       "<p>182 rows × 2 columns</p>\n",
       "</div>"
      ],
      "text/plain": [
       "                                    Life Expectancy in Years  \\\n",
       "Location                                                       \n",
       "Afghanistan                                        58.860000   \n",
       "Albania                                            75.880000   \n",
       "Algeria                                            74.866667   \n",
       "Angola                                             56.363333   \n",
       "Antigua and Barbuda                                75.550000   \n",
       "...                                                      ...   \n",
       "Venezuela (Bolivarian Republic of)                 74.513333   \n",
       "Viet Nam                                           72.443333   \n",
       "Yemen                                              65.953333   \n",
       "Zambia                                             53.876667   \n",
       "Zimbabwe                                           52.180000   \n",
       "\n",
       "                                    Drinking Water Facilities at Home (%)  \n",
       "Location                                                                   \n",
       "Afghanistan                                                     39.936750  \n",
       "Albania                                                         84.481250  \n",
       "Algeria                                                         86.651000  \n",
       "Angola                                                          24.684167  \n",
       "Antigua and Barbuda                                             97.225000  \n",
       "...                                                                   ...  \n",
       "Venezuela (Bolivarian Republic of)                              96.133333  \n",
       "Viet Nam                                                        84.972667  \n",
       "Yemen                                                           42.239500  \n",
       "Zambia                                                          37.146917  \n",
       "Zimbabwe                                                        54.455333  \n",
       "\n",
       "[182 rows x 2 columns]"
      ]
     },
     "execution_count": 22,
     "metadata": {},
     "output_type": "execute_result"
    }
   ],
   "source": [
    "# Parth Korat\n",
    "# change column name and get the dataframe\n",
    "life_drinkingwater_df_clean.columns = ['Drinking Water Facilities at Home (%)']\n",
    "life_drinkingwater_df_clean = life_drinkingwater_df_clean.reset_index().groupby('Location').mean()\n",
    "life_drinkingwater_df_clean[['Life Expectancy in Years', 'Drinking Water Facilities at Home (%)']]"
   ]
  },
  {
   "cell_type": "code",
   "execution_count": 23,
   "metadata": {},
   "outputs": [],
   "source": [
    "# Parth Korat\n",
    "# set the x and y data\n",
    "x_drinkw_life = life_drinkingwater_df_clean['Drinking Water Facilities at Home (%)']\n",
    "y_drinkw_life = life_drinkingwater_df_clean['Life Expectancy in Years']"
   ]
  },
  {
   "cell_type": "code",
   "execution_count": 24,
   "metadata": {},
   "outputs": [
    {
     "name": "stdout",
     "output_type": "stream",
     "text": [
      "R-squared: 0.70\n",
      "Pearsons correlation: 0.84\n"
     ]
    },
    {
     "data": {
      "image/png": "[encoded data removed]",
      "text/plain": [
       "<Figure size 432x288 with 1 Axes>"
      ]
     },
     "metadata": {
      "needs_background": "light"
     },
     "output_type": "display_data"
    }
   ],
   "source": [
    "# Parth Korat\n",
    "# use sts.linregress() to fit a linear model to the dataset\n",
    "life_dres = sts.linregress(x_drinkw_life, y_drinkw_life)\n",
    "\n",
    "# display the scatter plot of the handwashing vs life expectancy\n",
    "plt.scatter(x_drinkw_life, y_drinkw_life, label='Original Data')\n",
    "\n",
    "# display on the plot the linear regression model\n",
    "y_dmodel = x_drinkw_life * life_dres.slope + life_dres.intercept\n",
    "plt.plot(x_drinkw_life, y_dmodel, '-r', label='Fitted Line')\n",
    "\n",
    "# create the equation\n",
    "lin_eq_dw = f'y = {life_dres.slope:.2f}x + {life_dres.intercept:.2f}'\n",
    "\n",
    "# show graph and legend\n",
    "plt.legend()\n",
    "plt.annotate(lin_eq_dw, (65, 50), fontsize=15, color='red')\n",
    "plt.title('Life Expenctancy in Countries with % of Drinking Water Facilities \\n', fontsize=15)\n",
    "plt.xlabel('\\n Handwashing Facilities at Home (%)')\n",
    "plt.ylabel('Life Expectancy in Years \\n')\n",
    "plt.show\n",
    "\n",
    "# Get R-squared and Pearson Correlation coefficients\n",
    "print(f'R-squared: {life_dres.rvalue**2:.2f}')\n",
    "corr, _ = sts.pearsonr(x_drinkw_life, y_drinkw_life)\n",
    "print(f'Pearsons correlation: {corr:.2f}')\n",
    "\n",
    "# Save the figure in the Output folder\n",
    "plt.savefig('Output/drinkingwater_life.png', bbox_inches='tight')"
   ]
  }
 ],
 "metadata": {
  "interpreter": {
   "hash": "2f3a706b34eb0ea9bbb028628723f5cd93895146db5a4b3f252e9288b7f6741a"
  },
  "kernelspec": {
   "display_name": "Python 3",
   "language": "python",
   "name": "python3"
  },
  "language_info": {
   "codemirror_mode": {
    "name": "ipython",
    "version": 3
   },
   "file_extension": ".py",
   "mimetype": "text/x-python",
   "name": "python",
   "nbconvert_exporter": "python",
   "pygments_lexer": "ipython3",
   "version": "3.7.6"
  }
 },
 "nbformat": 4,
 "nbformat_minor": 2
}
